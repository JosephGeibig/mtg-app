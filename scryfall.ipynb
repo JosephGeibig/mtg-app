{
 "cells": [
  {
   "cell_type": "code",
   "execution_count": null,
   "metadata": {},
   "outputs": [],
   "source": [
    "import requests\n",
    "import time\n",
    "import random\n",
    "import json\n",
    "\n",
    "def make_api_call_with_delay(url):\n",
    "    try:\n",
    "        response = requests.get(url)\n",
    "        if response.status_code == 200:\n",
    "            return response.json()  # Assuming the response is JSON data\n",
    "        else:\n",
    "            print(f\"Request failed with status code: {response.status_code}\")\n",
    "            return None\n",
    "    except requests.exceptions.RequestException as e:\n",
    "        print(f\"Error making request: {e}\")\n",
    "        return None"
   ]
  },
  {
   "cell_type": "code",
   "execution_count": null,
   "metadata": {},
   "outputs": [],
   "source": [
    "base_url = \"https://api.scryfall.com/cards/search?q=\"\n",
    "\n",
    "search_query = \"Flickerwisp\"\n",
    "\n",
    "url = base_url + f'name:\"{search_query}\"'\n"
   ]
  },
  {
   "cell_type": "code",
   "execution_count": null,
   "metadata": {},
   "outputs": [],
   "source": [
    "delay = random.uniform(0.05, 0.1)\n",
    "time.sleep(delay)\n",
    "response_data = make_api_call_with_delay(url)\n",
    "if response_data:\n",
    "    print(json.dumps(response_data, indent=4))  "
   ]
  },
  {
   "cell_type": "code",
   "execution_count": null,
   "metadata": {},
   "outputs": [],
   "source": [
    "def scryfall_q():\n",
    "    def make_api_call_with_delay(url):\n",
    "        try:\n",
    "            response = requests.get(url)\n",
    "            if response.status_code == 200:\n",
    "                return response.json()  # Assuming the response is JSON data\n",
    "            else:\n",
    "                print(f\"Request failed with status code: {response.status_code}\")\n",
    "                return None\n",
    "        except requests.exceptions.RequestException as e:\n",
    "            print(f\"Error making request: {e}\")\n",
    "            return None\n",
    "    \n",
    "\n",
    "\n",
    "    base_url = \"https://api.scryfall.com/cards/search?q=\"\n",
    "\n",
    "    search_query = \"Flickerwisp\"\n",
    "\n",
    "    url = base_url + f'name:\"{search_query}\"'\n",
    "    \n",
    "\n",
    "\n",
    "\n",
    "\n",
    "    delay = random.uniform(0.05, 0.1)\n",
    "    time.sleep(delay)\n",
    "    response_data = make_api_call_with_delay(url)\n",
    "    if response_data:\n",
    "        print(json.dumps(response_data, indent=4))  "
   ]
  }
 ],
 "metadata": {
  "language_info": {
   "name": "python"
  }
 },
 "nbformat": 4,
 "nbformat_minor": 2
}
